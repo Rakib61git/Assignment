{
 "cells": [
  {
   "cell_type": "code",
   "execution_count": 4,
   "id": "7c556e8d-0d90-4fa2-bf5c-ea6ad93c8221",
   "metadata": {},
   "outputs": [
    {
     "name": "stdout",
     "output_type": "stream",
     "text": [
      "Requirement already satisfied: factor_analyzer in c:\\users\\user\\anaconda3\\lib\\site-packages (0.5.1)\n",
      "Requirement already satisfied: pandas in c:\\users\\user\\anaconda3\\lib\\site-packages (from factor_analyzer) (2.2.3)\n",
      "Requirement already satisfied: scipy in c:\\users\\user\\anaconda3\\lib\\site-packages (from factor_analyzer) (1.15.3)\n",
      "Requirement already satisfied: numpy in c:\\users\\user\\anaconda3\\lib\\site-packages (from factor_analyzer) (2.1.3)\n",
      "Requirement already satisfied: scikit-learn in c:\\users\\user\\anaconda3\\lib\\site-packages (from factor_analyzer) (1.6.1)\n",
      "Requirement already satisfied: python-dateutil>=2.8.2 in c:\\users\\user\\anaconda3\\lib\\site-packages (from pandas->factor_analyzer) (2.9.0.post0)\n",
      "Requirement already satisfied: pytz>=2020.1 in c:\\users\\user\\anaconda3\\lib\\site-packages (from pandas->factor_analyzer) (2024.1)\n",
      "Requirement already satisfied: tzdata>=2022.7 in c:\\users\\user\\anaconda3\\lib\\site-packages (from pandas->factor_analyzer) (2025.2)\n",
      "Requirement already satisfied: six>=1.5 in c:\\users\\user\\anaconda3\\lib\\site-packages (from python-dateutil>=2.8.2->pandas->factor_analyzer) (1.17.0)\n",
      "Requirement already satisfied: joblib>=1.2.0 in c:\\users\\user\\anaconda3\\lib\\site-packages (from scikit-learn->factor_analyzer) (1.4.2)\n",
      "Requirement already satisfied: threadpoolctl>=3.1.0 in c:\\users\\user\\anaconda3\\lib\\site-packages (from scikit-learn->factor_analyzer) (3.5.0)\n"
     ]
    },
    {
     "data": {
      "text/html": [
       "<div>\n",
       "<style scoped>\n",
       "    .dataframe tbody tr th:only-of-type {\n",
       "        vertical-align: middle;\n",
       "    }\n",
       "\n",
       "    .dataframe tbody tr th {\n",
       "        vertical-align: top;\n",
       "    }\n",
       "\n",
       "    .dataframe thead th {\n",
       "        text-align: right;\n",
       "    }\n",
       "</style>\n",
       "<table border=\"1\" class=\"dataframe\">\n",
       "  <thead>\n",
       "    <tr style=\"text-align: right;\">\n",
       "      <th></th>\n",
       "      <th>v1</th>\n",
       "      <th>v2</th>\n",
       "      <th>v3</th>\n",
       "      <th>v4</th>\n",
       "      <th>v5</th>\n",
       "      <th>v6</th>\n",
       "    </tr>\n",
       "  </thead>\n",
       "  <tbody>\n",
       "    <tr>\n",
       "      <th>0</th>\n",
       "      <td>2.5</td>\n",
       "      <td>1.9</td>\n",
       "      <td>4.1</td>\n",
       "      <td>3.8</td>\n",
       "      <td>2.2</td>\n",
       "      <td>5.0</td>\n",
       "    </tr>\n",
       "    <tr>\n",
       "      <th>1</th>\n",
       "      <td>3.0</td>\n",
       "      <td>2.2</td>\n",
       "      <td>4.5</td>\n",
       "      <td>4.0</td>\n",
       "      <td>2.6</td>\n",
       "      <td>5.2</td>\n",
       "    </tr>\n",
       "    <tr>\n",
       "      <th>2</th>\n",
       "      <td>2.8</td>\n",
       "      <td>2.1</td>\n",
       "      <td>4.3</td>\n",
       "      <td>3.9</td>\n",
       "      <td>2.4</td>\n",
       "      <td>5.1</td>\n",
       "    </tr>\n",
       "    <tr>\n",
       "      <th>3</th>\n",
       "      <td>3.2</td>\n",
       "      <td>2.5</td>\n",
       "      <td>4.8</td>\n",
       "      <td>4.2</td>\n",
       "      <td>2.7</td>\n",
       "      <td>5.5</td>\n",
       "    </tr>\n",
       "    <tr>\n",
       "      <th>4</th>\n",
       "      <td>3.1</td>\n",
       "      <td>2.3</td>\n",
       "      <td>4.6</td>\n",
       "      <td>4.1</td>\n",
       "      <td>2.5</td>\n",
       "      <td>5.3</td>\n",
       "    </tr>\n",
       "    <tr>\n",
       "      <th>5</th>\n",
       "      <td>2.9</td>\n",
       "      <td>2.0</td>\n",
       "      <td>4.0</td>\n",
       "      <td>3.7</td>\n",
       "      <td>2.1</td>\n",
       "      <td>4.9</td>\n",
       "    </tr>\n",
       "    <tr>\n",
       "      <th>6</th>\n",
       "      <td>3.5</td>\n",
       "      <td>2.6</td>\n",
       "      <td>4.9</td>\n",
       "      <td>4.3</td>\n",
       "      <td>2.8</td>\n",
       "      <td>5.6</td>\n",
       "    </tr>\n",
       "    <tr>\n",
       "      <th>7</th>\n",
       "      <td>3.3</td>\n",
       "      <td>2.4</td>\n",
       "      <td>4.7</td>\n",
       "      <td>4.4</td>\n",
       "      <td>2.6</td>\n",
       "      <td>5.4</td>\n",
       "    </tr>\n",
       "    <tr>\n",
       "      <th>8</th>\n",
       "      <td>2.7</td>\n",
       "      <td>1.8</td>\n",
       "      <td>4.2</td>\n",
       "      <td>3.6</td>\n",
       "      <td>2.3</td>\n",
       "      <td>4.8</td>\n",
       "    </tr>\n",
       "    <tr>\n",
       "      <th>9</th>\n",
       "      <td>3.4</td>\n",
       "      <td>2.7</td>\n",
       "      <td>4.4</td>\n",
       "      <td>4.5</td>\n",
       "      <td>2.9</td>\n",
       "      <td>5.7</td>\n",
       "    </tr>\n",
       "  </tbody>\n",
       "</table>\n",
       "</div>"
      ],
      "text/plain": [
       "    v1   v2   v3   v4   v5   v6\n",
       "0  2.5  1.9  4.1  3.8  2.2  5.0\n",
       "1  3.0  2.2  4.5  4.0  2.6  5.2\n",
       "2  2.8  2.1  4.3  3.9  2.4  5.1\n",
       "3  3.2  2.5  4.8  4.2  2.7  5.5\n",
       "4  3.1  2.3  4.6  4.1  2.5  5.3\n",
       "5  2.9  2.0  4.0  3.7  2.1  4.9\n",
       "6  3.5  2.6  4.9  4.3  2.8  5.6\n",
       "7  3.3  2.4  4.7  4.4  2.6  5.4\n",
       "8  2.7  1.8  4.2  3.6  2.3  4.8\n",
       "9  3.4  2.7  4.4  4.5  2.9  5.7"
      ]
     },
     "execution_count": 4,
     "metadata": {},
     "output_type": "execute_result"
    }
   ],
   "source": [
    "!pip install factor_analyzer\n",
    "import pandas as pd\n",
    "from factor_analyzer import FactorAnalyzer\n",
    "from factor_analyzer.factor_analyzer import calculate_bartlett_sphericity, calculate_kmo\n",
    "import matplotlib.pyplot as plt\n",
    "sample_data = {\n",
    "    'v1': [2.5, 3.0, 2.8, 3.2, 3.1, 2.9, 3.5, 3.3, 2.7, 3.4],\n",
    "    'v2': [1.9, 2.2, 2.1, 2.5, 2.3, 2.0, 2.6, 2.4, 1.8, 2.7],\n",
    "    'v3': [4.1, 4.5, 4.3, 4.8, 4.6, 4.0, 4.9, 4.7, 4.2, 4.4],\n",
    "    'v4': [3.8, 4.0, 3.9, 4.2, 4.1, 3.7, 4.3, 4.4, 3.6, 4.5],\n",
    "    'v5': [2.2, 2.6, 2.4, 2.7, 2.5, 2.1, 2.8, 2.6, 2.3, 2.9],\n",
    "    'v6': [5.0, 5.2, 5.1, 5.5, 5.3, 4.9, 5.6, 5.4, 4.8, 5.7]\n",
    "}\n",
    "data = pd.DataFrame(sample_data)\n",
    "data"
   ]
  },
  {
   "cell_type": "code",
   "execution_count": 5,
   "id": "3f83b91b-cba5-4858-ab7a-478d3f419330",
   "metadata": {},
   "outputs": [
    {
     "name": "stdout",
     "output_type": "stream",
     "text": [
      "Bartlett's test: Chi-square value: 79.73, p-value: 0.000\n",
      "KMO Test: 0.72\n",
      "--------------------------------------------------\n"
     ]
    },
    {
     "name": "stderr",
     "output_type": "stream",
     "text": [
      "C:\\Users\\User\\anaconda3\\Lib\\site-packages\\factor_analyzer\\utils.py:244: UserWarning: The inverse of the variance-covariance matrix was calculated using the Moore-Penrose generalized matrix inversion, due to its determinant being at or very close to zero.\n",
      "  warnings.warn(\n"
     ]
    }
   ],
   "source": [
    "chi_square_value, p_value = calculate_bartlett_sphericity(data)\n",
    "print(f\"Bartlett's test: Chi-square value: {chi_square_value:.2f}, p-value: {p_value:.3f}\")\n",
    "kmo_all, kmo_model = calculate_kmo(data)\n",
    "print(f\"KMO Test: {kmo_model:.2f}\")\n",
    "print(\"-\" * 50)\n"
   ]
  },
  {
   "cell_type": "code",
   "execution_count": 6,
   "id": "808f850d-ef98-4b21-a746-067daced12ff",
   "metadata": {},
   "outputs": [
    {
     "name": "stderr",
     "output_type": "stream",
     "text": [
      "C:\\Users\\User\\anaconda3\\Lib\\site-packages\\sklearn\\utils\\deprecation.py:151: FutureWarning: 'force_all_finite' was renamed to 'ensure_all_finite' in 1.6 and will be removed in 1.8.\n",
      "  warnings.warn(\n"
     ]
    },
    {
     "name": "stdout",
     "output_type": "stream",
     "text": [
      "Eigenvalues:\n",
      "[5.38429861e+00 3.27323049e-01 1.49129910e-01 9.45247065e-02\n",
      " 4.24215476e-02 2.30218072e-03]\n"
     ]
    },
    {
     "data": {
      "image/png": "[encoded data removed]",
      "text/plain": [
       "<Figure size 800x500 with 1 Axes>"
      ]
     },
     "metadata": {},
     "output_type": "display_data"
    }
   ],
   "source": [
    "\n",
    "fa_initial = FactorAnalyzer()\n",
    "fa_initial.fit(data)\n",
    "\n",
    "eigen_values, _ = fa_initial.get_eigenvalues()\n",
    "print(\"Eigenvalues:\")\n",
    "print(eigen_values)\n",
    "plt.figure(figsize=(8, 5))\n",
    "plt.scatter(range(1, data.shape[1] + 1), eigen_values)\n",
    "plt.plot(range(1, data.shape[1] + 1), eigen_values)\n",
    "plt.title('Scree Plot')\n",
    "plt.xlabel('Factors')\n",
    "plt.ylabel('Eigenvalue')\n",
    "plt.grid()\n",
    "plt.show()\n"
   ]
  },
  {
   "cell_type": "code",
   "execution_count": 7,
   "id": "0edea8a5-9038-4c11-a2ea-2354e7cb79b2",
   "metadata": {},
   "outputs": [
    {
     "name": "stdout",
     "output_type": "stream",
     "text": [
      "\n",
      "Factor Loadings:\n",
      "    Factor 1  Factor 2\n",
      "v1  0.783025  0.492631\n",
      "v2  0.909177  0.412844\n",
      "v3  0.444907  0.893137\n",
      "v4  0.875044  0.399089\n",
      "v5  0.798695  0.493376\n",
      "v6  0.896193  0.427232\n",
      "\n",
      "Factor Variance:\n",
      "                Factor 1  Factor 2\n",
      "SS Loadings     3.844453  1.796037\n",
      "Proportion Var  0.640742  0.299340\n",
      "Cumulative Var  0.640742  0.940082\n"
     ]
    },
    {
     "name": "stderr",
     "output_type": "stream",
     "text": [
      "C:\\Users\\User\\anaconda3\\Lib\\site-packages\\sklearn\\utils\\deprecation.py:151: FutureWarning: 'force_all_finite' was renamed to 'ensure_all_finite' in 1.6 and will be removed in 1.8.\n",
      "  warnings.warn(\n"
     ]
    }
   ],
   "source": [
    "\n",
    "fa = FactorAnalyzer(n_factors=2, rotation=\"varimax\")\n",
    "fa.fit(data)\n",
    "loadings = pd.DataFrame(fa.loadings_, index=data.columns, columns=['Factor 1', 'Factor 2'])\n",
    "print(\"\\nFactor Loadings:\")\n",
    "print(loadings)\n",
    "\n",
    "variance = pd.DataFrame(fa.get_factor_variance(), index=['SS Loadings', 'Proportion Var', 'Cumulative Var'], columns=['Factor 1', 'Factor 2'])\n",
    "print(\"\\nFactor Variance:\")\n",
    "print(variance)"
   ]
  },
  {
   "cell_type": "code",
   "execution_count": null,
   "id": "1a32a933-1aa8-48d9-92d9-c304e797af47",
   "metadata": {},
   "outputs": [],
   "source": []
  }
 ],
 "metadata": {
  "kernelspec": {
   "display_name": "Python [conda env:base] *",
   "language": "python",
   "name": "conda-base-py"
  },
  "language_info": {
   "codemirror_mode": {
    "name": "ipython",
    "version": 3
   },
   "file_extension": ".py",
   "mimetype": "text/x-python",
   "name": "python",
   "nbconvert_exporter": "python",
   "pygments_lexer": "ipython3",
   "version": "3.13.5"
  }
 },
 "nbformat": 4,
 "nbformat_minor": 5
}
